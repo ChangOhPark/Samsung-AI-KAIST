{
 "cells": [
  {
   "cell_type": "markdown",
   "metadata": {},
   "source": [
    "# <div style=\"text-align: center\"> Recurrent Neural Networks (RNN)</div>\n",
    "#### <div style=\"text-align: right\"> 2019.09.23 Monday</div>\n",
    "#### <div style=\"text-align: right\"> Prof. Changho Suh, TA Jaewoong Cho, Junhyung Ahn</div>"
   ]
  },
  {
   "cell_type": "markdown",
   "metadata": {},
   "source": [
    "**실습목표**\n",
    "- Simple RNN 생성하기\n",
    "- RNN을 훈련하여 시계열 예측하기 \n",
    "- Long Short-Term Memory (LSTM)\n",
    "- LSTM을 훈련하여 문장의 다음 글자 예측하기"
   ]
  },
  {
   "cell_type": "code",
   "execution_count": 1,
   "metadata": {},
   "outputs": [
    {
     "name": "stderr",
     "output_type": "stream",
     "text": [
      "/Library/Frameworks/Python.framework/Versions/3.6/lib/python3.6/site-packages/h5py/__init__.py:36: FutureWarning: Conversion of the second argument of issubdtype from `float` to `np.floating` is deprecated. In future, it will be treated as `np.float64 == np.dtype(float).type`.\n",
      "  from ._conv import register_converters as _register_converters\n",
      "Using TensorFlow backend.\n"
     ]
    }
   ],
   "source": [
    "import tensorflow as tf\n",
    "import numpy as np\n",
    "import os\n",
    "import matplotlib as mpl\n",
    "import matplotlib.pyplot as plt\n",
    "\n",
    "from tensorflow import keras\n",
    "from keras import backend as K\n",
    "\n",
    "%matplotlib inline\n",
    "mpl.rc('axes', labelsize=14)\n",
    "mpl.rc('xtick', labelsize=12)\n",
    "mpl.rc('ytick', labelsize=12)"
   ]
  },
  {
   "cell_type": "code",
   "execution_count": 2,
   "metadata": {},
   "outputs": [],
   "source": [
    "from tensorflow.compat.v1 import ConfigProto\n",
    "from tensorflow.compat.v1 import InteractiveSession\n",
    "\n",
    "config = ConfigProto()\n",
    "config.gpu_options.allow_growth = True\n",
    "session = InteractiveSession(config=config)"
   ]
  },
  {
   "cell_type": "markdown",
   "metadata": {},
   "source": [
    "## 1-A. BasicRNNCell 함수 사용하여 RNN 생성하기"
   ]
  },
  {
   "cell_type": "code",
   "execution_count": 3,
   "metadata": {},
   "outputs": [
    {
     "name": "stdout",
     "output_type": "stream",
     "text": [
      "WARNING:tensorflow:\n",
      "The TensorFlow contrib module will not be included in TensorFlow 2.0.\n",
      "For more information, please see:\n",
      "  * https://github.com/tensorflow/community/blob/master/rfcs/20180907-contrib-sunset.md\n",
      "  * https://github.com/tensorflow/addons\n",
      "  * https://github.com/tensorflow/io (for I/O related ops)\n",
      "If you depend on functionality not listed there, please file an issue.\n",
      "\n",
      "WARNING:tensorflow:From <ipython-input-3-97973e0761c5>:10: BasicRNNCell.__init__ (from tensorflow.python.ops.rnn_cell_impl) is deprecated and will be removed in a future version.\n",
      "Instructions for updating:\n",
      "This class is equivalent as tf.keras.layers.SimpleRNNCell, and will be replaced by that in Tensorflow 2.0.\n",
      "WARNING:tensorflow:From <ipython-input-3-97973e0761c5>:13: static_rnn (from tensorflow.python.ops.rnn) is deprecated and will be removed in a future version.\n",
      "Instructions for updating:\n",
      "Please use `keras.layers.RNN(cell, unroll=True)`, which is equivalent to this API\n",
      "WARNING:tensorflow:From /Library/Frameworks/Python.framework/Versions/3.6/lib/python3.6/site-packages/tensorflow/python/ops/init_ops.py:1251: calling VarianceScaling.__init__ (from tensorflow.python.ops.init_ops) with dtype is deprecated and will be removed in a future version.\n",
      "Instructions for updating:\n",
      "Call initializer instance with the dtype argument instead of passing it to the constructor\n",
      "WARNING:tensorflow:From /Library/Frameworks/Python.framework/Versions/3.6/lib/python3.6/site-packages/tensorflow/python/ops/rnn_cell_impl.py:459: calling Zeros.__init__ (from tensorflow.python.ops.init_ops) with dtype is deprecated and will be removed in a future version.\n",
      "Instructions for updating:\n",
      "Call initializer instance with the dtype argument instead of passing it to the constructor\n",
      "Output: \n",
      " [array([[-0.48432443,  0.92095673,  0.41449896,  0.9176296 ,  0.6650218 ],\n",
      "       [ 0.10040054,  0.9994508 , -0.12513809,  0.9979229 ,  0.99818385],\n",
      "       [ 0.62312573,  0.9999963 , -0.5996666 ,  0.99994975,  0.9999919 ],\n",
      "       [ 0.91357505, -0.95783347, -0.99974716, -0.99579155,  0.99985874]],\n",
      "      dtype=float32)] \n",
      "\n",
      "States: \n",
      " [[-0.48432443  0.92095673  0.41449896  0.9176296   0.6650218 ]\n",
      " [ 0.10040054  0.9994508  -0.12513809  0.9979229   0.99818385]\n",
      " [ 0.62312573  0.9999963  -0.5996666   0.99994975  0.9999919 ]\n",
      " [ 0.91357505 -0.95783347 -0.99974716 -0.99579155  0.99985874]]\n",
      "\n",
      "Output == States? \n",
      " [[[ True  True  True  True  True]\n",
      "  [ True  True  True  True  True]\n",
      "  [ True  True  True  True  True]\n",
      "  [ True  True  True  True  True]]]\n"
     ]
    }
   ],
   "source": [
    "# h0 = y0\n",
    "n_steps = 1\n",
    "input_dim= 3\n",
    "output_dim = 5\n",
    "\n",
    "X = tf.placeholder(tf.float32, [None,input_dim])\n",
    "\n",
    "\n",
    "with tf.variable_scope(\"static_rnn1\", reuse=tf.AUTO_REUSE):\n",
    "    basic_cell = tf.contrib.rnn.BasicRNNCell(num_units=output_dim)\n",
    "    outputs, states = tf.nn.static_rnn(cell=basic_cell, \n",
    "                                       inputs=[X], \n",
    "                                       dtype=tf.float32,)\n",
    "\n",
    "X_batch  = np.array([[0,1,2],    \n",
    "                     [3,4,5],    \n",
    "                     [6,7,8],    \n",
    "                     [9,0,1]])    \n",
    "\n",
    "with tf.Session() as sess:\n",
    "    init = tf.global_variables_initializer()\n",
    "    init.run()\n",
    "    output_vals, states_val = sess.run([outputs, states], \n",
    "                                       feed_dict= {X: X_batch})\n",
    "\n",
    "print(\"Output: \\n {} \\n\".format(output_vals))\n",
    "print(\"States: \\n {}\\n\".format(states_val))\n",
    "print(\"Output == States? \\n {}\".format(output_vals==states_val))"
   ]
  },
  {
   "cell_type": "code",
   "execution_count": 4,
   "metadata": {},
   "outputs": [
    {
     "name": "stdout",
     "output_type": "stream",
     "text": [
      "Y0_val: \n",
      "[[-0.47445345  0.43002522  0.15316264  0.7389329  -0.36381605]\n",
      " [-0.9977807  -0.5638027   0.8786813   0.8817811   0.59713453]\n",
      " [-0.9999931  -0.9398437   0.988707    0.94876957  0.9423509 ]\n",
      " [-0.99984634 -0.99944854  0.6551978  -0.99960613  0.99013436]]\n",
      "Y1_val: \n",
      "[[-0.9999999  -0.9981329   0.98718715  0.46542427  0.9983521 ]\n",
      " [-0.06999217 -0.5816204  -0.8537666  -0.06558075 -0.21551993]\n",
      " [-0.99995357 -0.9988854   0.7965357  -0.1555355   0.97823733]\n",
      " [-0.9670468  -0.9527892   0.8260328  -0.85571295  0.84784305]]\n",
      "State_val: \n",
      "[[-0.9999999  -0.9981329   0.98718715  0.46542427  0.9983521 ]\n",
      " [-0.06999217 -0.5816204  -0.8537666  -0.06558075 -0.21551993]\n",
      " [-0.99995357 -0.9988854   0.7965357  -0.1555355   0.97823733]\n",
      " [-0.9670468  -0.9527892   0.8260328  -0.85571295  0.84784305]]\n"
     ]
    }
   ],
   "source": [
    "# 정적으로 타임 스텝 펼치기\n",
    "X0 = tf.placeholder(tf.float32, [None, input_dim])\n",
    "X1 =  tf.placeholder(tf.float32, [None, input_dim])\n",
    "\n",
    "# 미니배치\n",
    "X0_batch = np.array([[0,1,2],\n",
    "                     [3,4,5],\n",
    "                     [6,7,8],\n",
    "                     [9,0,1]]) #t=0\n",
    "X1_batch = np.array([[9,8,7],\n",
    "                     [0,0,0],\n",
    "                     [6,5,4],\n",
    "                     [3,2,1]]) #t=1\n",
    "\n",
    "with tf.variable_scope(\"static_rnn2\", reuse=tf.AUTO_REUSE):\n",
    "    basic_cell = tf.contrib.rnn.BasicRNNCell(num_units=output_dim)\n",
    "    output_seqs, states = tf.contrib.rnn.static_rnn(cell=basic_cell,\n",
    "                                                    inputs=[X0,X1],\n",
    "                                                    dtype=tf.float32)\n",
    "    Y0,Y1 = output_seqs\n",
    "\n",
    "with tf.Session() as sess:\n",
    "    init = tf.global_variables_initializer()\n",
    "    sess.run(init)\n",
    "    Y0_val, Y1_val = sess.run([Y0,Y1], feed_dict={X0: X0_batch, X1:X1_batch})\n",
    "    state_val = sess.run(states, feed_dict={X0: X0_batch, X1:X1_batch})\n",
    "    \n",
    "print(\"Y0_val: \\n{}\".format(Y0_val))      # t=0에서 y \n",
    "print(\"Y1_val: \\n{}\".format(Y1_val))      # t=1에서 y \n",
    "print(\"State_val: \\n{}\".format(state_val)) # t=1에서의 h"
   ]
  },
  {
   "cell_type": "code",
   "execution_count": 106,
   "metadata": {},
   "outputs": [
    {
     "ename": "ValueError",
     "evalue": "setting an array element with a sequence.",
     "output_type": "error",
     "traceback": [
      "\u001b[0;31m---------------------------------------------------------------------------\u001b[0m",
      "\u001b[0;31mValueError\u001b[0m                                Traceback (most recent call last)",
      "\u001b[0;32m<ipython-input-106-a254cbb87f54>\u001b[0m in \u001b[0;36m<module>\u001b[0;34m()\u001b[0m\n\u001b[1;32m     23\u001b[0m     \u001b[0minit\u001b[0m \u001b[0;34m=\u001b[0m \u001b[0mtf\u001b[0m\u001b[0;34m.\u001b[0m\u001b[0mglobal_variables_initializer\u001b[0m\u001b[0;34m(\u001b[0m\u001b[0;34m)\u001b[0m\u001b[0;34m\u001b[0m\u001b[0m\n\u001b[1;32m     24\u001b[0m     \u001b[0minit\u001b[0m\u001b[0;34m.\u001b[0m\u001b[0mrun\u001b[0m\u001b[0;34m(\u001b[0m\u001b[0;34m)\u001b[0m\u001b[0;34m\u001b[0m\u001b[0m\n\u001b[0;32m---> 25\u001b[0;31m     \u001b[0moutput_vals\u001b[0m\u001b[0;34m,\u001b[0m \u001b[0mstates_val\u001b[0m \u001b[0;34m=\u001b[0m \u001b[0msess\u001b[0m\u001b[0;34m.\u001b[0m\u001b[0mrun\u001b[0m\u001b[0;34m(\u001b[0m\u001b[0;34m[\u001b[0m\u001b[0moutputs\u001b[0m\u001b[0;34m,\u001b[0m\u001b[0mstates\u001b[0m\u001b[0;34m]\u001b[0m\u001b[0;34m,\u001b[0m \u001b[0mfeed_dict\u001b[0m\u001b[0;34m=\u001b[0m\u001b[0;34m{\u001b[0m\u001b[0mX\u001b[0m\u001b[0;34m:\u001b[0m\u001b[0mX_batch\u001b[0m\u001b[0;34m,\u001b[0m \u001b[0mseq_length\u001b[0m\u001b[0;34m:\u001b[0m\u001b[0mseq_length_batch\u001b[0m\u001b[0;34m}\u001b[0m\u001b[0;34m)\u001b[0m\u001b[0;34m\u001b[0m\u001b[0m\n\u001b[0m\u001b[1;32m     26\u001b[0m \u001b[0;34m\u001b[0m\u001b[0m\n\u001b[1;32m     27\u001b[0m \u001b[0mprint\u001b[0m\u001b[0;34m(\u001b[0m\u001b[0;34m\"Output: \\n {} \\n\"\u001b[0m\u001b[0;34m.\u001b[0m\u001b[0mformat\u001b[0m\u001b[0;34m(\u001b[0m\u001b[0moutput_vals\u001b[0m\u001b[0;34m)\u001b[0m\u001b[0;34m)\u001b[0m\u001b[0;34m\u001b[0m\u001b[0m\n",
      "\u001b[0;32m/Library/Frameworks/Python.framework/Versions/3.6/lib/python3.6/site-packages/tensorflow/python/client/session.py\u001b[0m in \u001b[0;36mrun\u001b[0;34m(self, fetches, feed_dict, options, run_metadata)\u001b[0m\n\u001b[1;32m    948\u001b[0m     \u001b[0;32mtry\u001b[0m\u001b[0;34m:\u001b[0m\u001b[0;34m\u001b[0m\u001b[0m\n\u001b[1;32m    949\u001b[0m       result = self._run(None, fetches, feed_dict, options_ptr,\n\u001b[0;32m--> 950\u001b[0;31m                          run_metadata_ptr)\n\u001b[0m\u001b[1;32m    951\u001b[0m       \u001b[0;32mif\u001b[0m \u001b[0mrun_metadata\u001b[0m\u001b[0;34m:\u001b[0m\u001b[0;34m\u001b[0m\u001b[0m\n\u001b[1;32m    952\u001b[0m         \u001b[0mproto_data\u001b[0m \u001b[0;34m=\u001b[0m \u001b[0mtf_session\u001b[0m\u001b[0;34m.\u001b[0m\u001b[0mTF_GetBuffer\u001b[0m\u001b[0;34m(\u001b[0m\u001b[0mrun_metadata_ptr\u001b[0m\u001b[0;34m)\u001b[0m\u001b[0;34m\u001b[0m\u001b[0m\n",
      "\u001b[0;32m/Library/Frameworks/Python.framework/Versions/3.6/lib/python3.6/site-packages/tensorflow/python/client/session.py\u001b[0m in \u001b[0;36m_run\u001b[0;34m(self, handle, fetches, feed_dict, options, run_metadata)\u001b[0m\n\u001b[1;32m   1140\u001b[0m             \u001b[0mfeed_handles\u001b[0m\u001b[0;34m[\u001b[0m\u001b[0msubfeed_t\u001b[0m\u001b[0;34m]\u001b[0m \u001b[0;34m=\u001b[0m \u001b[0msubfeed_val\u001b[0m\u001b[0;34m\u001b[0m\u001b[0m\n\u001b[1;32m   1141\u001b[0m           \u001b[0;32melse\u001b[0m\u001b[0;34m:\u001b[0m\u001b[0;34m\u001b[0m\u001b[0m\n\u001b[0;32m-> 1142\u001b[0;31m             \u001b[0mnp_val\u001b[0m \u001b[0;34m=\u001b[0m \u001b[0mnp\u001b[0m\u001b[0;34m.\u001b[0m\u001b[0masarray\u001b[0m\u001b[0;34m(\u001b[0m\u001b[0msubfeed_val\u001b[0m\u001b[0;34m,\u001b[0m \u001b[0mdtype\u001b[0m\u001b[0;34m=\u001b[0m\u001b[0msubfeed_dtype\u001b[0m\u001b[0;34m)\u001b[0m\u001b[0;34m\u001b[0m\u001b[0m\n\u001b[0m\u001b[1;32m   1143\u001b[0m \u001b[0;34m\u001b[0m\u001b[0m\n\u001b[1;32m   1144\u001b[0m           if (not is_tensor_handle_feed and\n",
      "\u001b[0;32m/Library/Frameworks/Python.framework/Versions/3.6/lib/python3.6/site-packages/numpy/core/numeric.py\u001b[0m in \u001b[0;36masarray\u001b[0;34m(a, dtype, order)\u001b[0m\n\u001b[1;32m    536\u001b[0m \u001b[0;34m\u001b[0m\u001b[0m\n\u001b[1;32m    537\u001b[0m     \"\"\"\n\u001b[0;32m--> 538\u001b[0;31m     \u001b[0;32mreturn\u001b[0m \u001b[0marray\u001b[0m\u001b[0;34m(\u001b[0m\u001b[0ma\u001b[0m\u001b[0;34m,\u001b[0m \u001b[0mdtype\u001b[0m\u001b[0;34m,\u001b[0m \u001b[0mcopy\u001b[0m\u001b[0;34m=\u001b[0m\u001b[0;32mFalse\u001b[0m\u001b[0;34m,\u001b[0m \u001b[0morder\u001b[0m\u001b[0;34m=\u001b[0m\u001b[0morder\u001b[0m\u001b[0;34m)\u001b[0m\u001b[0;34m\u001b[0m\u001b[0m\n\u001b[0m\u001b[1;32m    539\u001b[0m \u001b[0;34m\u001b[0m\u001b[0m\n\u001b[1;32m    540\u001b[0m \u001b[0;34m\u001b[0m\u001b[0m\n",
      "\u001b[0;31mValueError\u001b[0m: setting an array element with a sequence."
     ]
    }
   ],
   "source": [
    "# 가변 길이 시퀀스 입력\n",
    "n_steps = 3\n",
    "\n",
    "X = tf.placeholder(tf.float32, [None, n_steps, input_dim])\n",
    "seq_length  = tf.placeholder(tf.int32, [None])\n",
    "with tf.variable_scope(\"dynamic_rnn\", reuse=tf.AUTO_REUSE):\n",
    "    basic_cell = tf.contrib.rnn.BasicRNNCell(num_units=output_dim)\n",
    "    outputs, states = tf.nn.dynamic_rnn(cell=basic_cell, \n",
    "                                        inputs=X, \n",
    "                                        dtype=tf.float32,\n",
    "                                        sequence_length=seq_length)\n",
    "\n",
    "X_batch  = np.array([\n",
    "                     # t = 0  # t = 1   #t=2\n",
    "                     [[0,1,2],[9,8,7]], [4,5,3],    # 샘플 0\n",
    "                     [[3,4,5],[10,10,10], [1,4,2]],    # 샘플 1\n",
    "                     [[6,7,8],[6,5,4], [9,5,3]],    # 샘플 2\n",
    "                     [[9,0,1],[3,2,1], [2,0,4]]])   # 샘플 3\n",
    "\n",
    "seq_length_batch = np.array([3,1,2,3])\n",
    "\n",
    "with tf.Session() as sess:\n",
    "    init = tf.global_variables_initializer()\n",
    "    init.run()\n",
    "    output_vals, states_val = sess.run([outputs,states], feed_dict={X:X_batch, seq_length:seq_length_batch})\n",
    "    \n",
    "print(\"Output: \\n {} \\n\".format(output_vals))\n",
    "print(\"States: \\n {}\".format(states_val))"
   ]
  },
  {
   "cell_type": "code",
   "execution_count": 8,
   "metadata": {
    "scrolled": false
   },
   "outputs": [
    {
     "name": "stdout",
     "output_type": "stream",
     "text": [
      "Output: \n",
      " [[[-0.0604566   0.38035932  0.10598546  0.7667127  -0.9420088 ]\n",
      "  [-0.6419694  -0.9999652   0.95841473  1.         -1.0000001 ]]\n",
      "\n",
      " [[-0.12718588 -0.8129389   0.60680103  0.9999551  -0.9999465 ]\n",
      "  [-0.56996757 -0.99996775  0.95426613  1.         -1.        ]]\n",
      "\n",
      " [[-0.19278342 -0.9904872   0.8620573   1.         -0.99999994]\n",
      "  [-0.37662303 -0.99876446  0.7290086   0.9999997  -0.999709  ]]\n",
      "\n",
      " [[ 0.9823813  -0.99969405  0.6322161   0.9999738  -0.4786485 ]\n",
      "  [ 0.18802795 -0.99100214 -0.01728841  0.9993115  -0.9015402 ]]] \n",
      "\n",
      "States: \n",
      " [[-0.6419694  -0.9999652   0.95841473  1.         -1.0000001 ]\n",
      " [-0.56996757 -0.99996775  0.95426613  1.         -1.        ]\n",
      " [-0.37662303 -0.99876446  0.7290086   0.9999997  -0.999709  ]\n",
      " [ 0.18802795 -0.99100214 -0.01728841  0.9993115  -0.9015402 ]]\n"
     ]
    }
   ],
   "source": [
    "# 가변 길이 시퀀스 입력\n",
    "n_steps = 2\n",
    "\n",
    "X = tf.placeholder(tf.float32, [None, n_steps, input_dim])\n",
    "seq_length  = tf.placeholder(tf.int32, [None])\n",
    "with tf.variable_scope(\"dynamic_rnn\", reuse=tf.AUTO_REUSE):\n",
    "    basic_cell = tf.contrib.rnn.BasicRNNCell(num_units=output_dim)\n",
    "    outputs, states = tf.nn.dynamic_rnn(cell=basic_cell, \n",
    "                                        inputs=X, \n",
    "                                        dtype=tf.float32,)\n",
    "#                                         sequence_length=seq_length)\n",
    "\n",
    "X_batch  = np.array([\n",
    "                     # t = 0  # t = 1\n",
    "                     [[0,1,2],[9,8,7]],    # 샘플 0\n",
    "                     [[3,4,5],[10,10,10]],    # 샘플 1\n",
    "                     [[6,7,8],[6,5,4]],    # 샘플 2\n",
    "                     [[9,0,1],[3,2,1]]])   # 샘플 3\n",
    "\n",
    "seq_length_batch = np.array([2,1,2,2])\n",
    "\n",
    "with tf.Session() as sess:\n",
    "    init = tf.global_variables_initializer()\n",
    "    init.run()\n",
    "    output_vals, states_val = sess.run([outputs,states], feed_dict={X:X_batch, seq_length:seq_length_batch})\n",
    "    \n",
    "print(\"Output: \\n {} \\n\".format(output_vals))\n",
    "print(\"States: \\n {}\".format(states_val))"
   ]
  },
  {
   "cell_type": "markdown",
   "metadata": {},
   "source": [
    "## 1-B. 시계열 예측을 위해 훈련하기"
   ]
  },
  {
   "cell_type": "code",
   "execution_count": 36,
   "metadata": {
    "scrolled": true
   },
   "outputs": [],
   "source": [
    "def generate_time_series(batch_size, n_steps):\n",
    "    freq1, freq2, offsets1, offsets2 = np.random.rand(4, batch_size, 1)\n",
    "    time = np.linspace(0, 1, n_steps)\n",
    "    series = 0.5 * np.sin((time - offsets1) * (freq1 * 10 + 10))  \n",
    "    series += 0.2 * np.sin((time - offsets2) * (freq2 * 20 + 20)) \n",
    "    series += 0.1 * (np.random.rand(batch_size, n_steps) - 0.5)  \n",
    "    return np.expand_dims(series,2)\n",
    "#     return series[..., np.newaxis].astype(np.float32)"
   ]
  },
  {
   "cell_type": "code",
   "execution_count": 46,
   "metadata": {},
   "outputs": [],
   "source": [
    "a= np.random.randn(1,2)"
   ]
  },
  {
   "cell_type": "code",
   "execution_count": 47,
   "metadata": {},
   "outputs": [
    {
     "data": {
      "text/plain": [
       "(1, 2)"
      ]
     },
     "execution_count": 47,
     "metadata": {},
     "output_type": "execute_result"
    }
   ],
   "source": [
    "a.shape"
   ]
  },
  {
   "cell_type": "code",
   "execution_count": 52,
   "metadata": {},
   "outputs": [],
   "source": [
    "b = np.expand_dims(a, axis=2)"
   ]
  },
  {
   "cell_type": "code",
   "execution_count": 50,
   "metadata": {},
   "outputs": [
    {
     "name": "stdout",
     "output_type": "stream",
     "text": [
      "[[-0.66761255 -0.49007849]]\n"
     ]
    }
   ],
   "source": [
    "print(a)"
   ]
  },
  {
   "cell_type": "code",
   "execution_count": 53,
   "metadata": {},
   "outputs": [
    {
     "name": "stdout",
     "output_type": "stream",
     "text": [
      "[[[-0.66761255]\n",
      "  [-0.49007849]]]\n"
     ]
    }
   ],
   "source": [
    "print(b)"
   ]
  },
  {
   "cell_type": "code",
   "execution_count": 57,
   "metadata": {},
   "outputs": [
    {
     "data": {
      "text/plain": [
       "(1, 2, 1)"
      ]
     },
     "execution_count": 57,
     "metadata": {},
     "output_type": "execute_result"
    }
   ],
   "source": [
    "b.shape"
   ]
  },
  {
   "cell_type": "code",
   "execution_count": 59,
   "metadata": {},
   "outputs": [
    {
     "data": {
      "text/plain": [
       "(2,)"
      ]
     },
     "execution_count": 59,
     "metadata": {},
     "output_type": "execute_result"
    }
   ],
   "source": [
    "b.squeeze().shape"
   ]
  },
  {
   "cell_type": "code",
   "execution_count": 58,
   "metadata": {},
   "outputs": [
    {
     "data": {
      "text/plain": [
       "(1, 2, 1)"
      ]
     },
     "execution_count": 58,
     "metadata": {},
     "output_type": "execute_result"
    }
   ],
   "source": [
    "np.reshape(a, newshape=(1,2,1)).shape"
   ]
  },
  {
   "cell_type": "code",
   "execution_count": 45,
   "metadata": {},
   "outputs": [
    {
     "data": {
      "text/plain": [
       "array([[[-0.09000604],\n",
       "        [ 1.22417246]]])"
      ]
     },
     "execution_count": 45,
     "metadata": {},
     "output_type": "execute_result"
    }
   ],
   "source": [
    "np.reshape(a, newshape=(1,2,1))"
   ]
  },
  {
   "cell_type": "code",
   "execution_count": 37,
   "metadata": {},
   "outputs": [],
   "source": [
    "np.random.seed(42)\n",
    "\n",
    "n_steps = 50\n",
    "series = generate_time_series(10000, n_steps + 1)"
   ]
  },
  {
   "cell_type": "code",
   "execution_count": 38,
   "metadata": {},
   "outputs": [],
   "source": [
    "X_train, y_train = series[:7000, :n_steps], series[:7000, -1]\n",
    "X_valid, y_valid = series[7000:9000, :n_steps], series[7000:9000, -1]\n",
    "X_test, y_test = series[9000:, :n_steps], series[9000:, -1]"
   ]
  },
  {
   "cell_type": "code",
   "execution_count": 39,
   "metadata": {},
   "outputs": [
    {
     "data": {
      "text/plain": [
       "((7000, 50, 1), (7000, 1))"
      ]
     },
     "execution_count": 39,
     "metadata": {},
     "output_type": "execute_result"
    }
   ],
   "source": [
    "X_train.shape, y_train.shape"
   ]
  },
  {
   "cell_type": "code",
   "execution_count": 62,
   "metadata": {},
   "outputs": [
    {
     "data": {
      "image/png": "[encoded data removed]",
      "text/plain": [
       "<Figure size 864x288 with 3 Axes>"
      ]
     },
     "metadata": {},
     "output_type": "display_data"
    }
   ],
   "source": [
    "def plot_series(series, \n",
    "                y=None, \n",
    "                y_pred=None, \n",
    "                x_label=\"$t$\", \n",
    "                y_label=\"$x(t)$\"):\n",
    "    plt.plot(series, \".-\")\n",
    "    if y is not None:\n",
    "        plt.plot(n_steps, y, \"bx\", markersize=10, label='Actual')\n",
    "    if y_pred is not None:\n",
    "        plt.plot(n_steps, y_pred, \"ro\",label='Prediction')\n",
    "    plt.grid(True)\n",
    "    if x_label:\n",
    "        plt.xlabel(x_label, fontsize=16)\n",
    "    if y_label:\n",
    "        plt.ylabel(y_label, fontsize=16, rotation=0)\n",
    "    plt.hlines(0, 0, 100, linewidth=1)\n",
    "    plt.axis([0, n_steps + 1, -1, 1])\n",
    "\n",
    "fig, axes = plt.subplots(nrows=1\n",
    "                         ,ncols=3, \n",
    "                         sharey=True,\n",
    "                         figsize=(12, 4))\n",
    "for col in range(3):\n",
    "    plt.sca(axes[col])\n",
    "    plot_series(X_valid[col, :, 0], y_valid[col, 0],\n",
    "                y_label=(\"$x(t)$\" if col==0 else None))\n",
    "plt.show()"
   ]
  },
  {
   "cell_type": "markdown",
   "metadata": {},
   "source": [
    "### 1. Simple RNN"
   ]
  },
  {
   "cell_type": "code",
   "execution_count": 14,
   "metadata": {
    "scrolled": false
   },
   "outputs": [
    {
     "name": "stdout",
     "output_type": "stream",
     "text": [
      "Train on 7000 samples, validate on 2000 samples\n",
      "Epoch 1/20\n",
      "7000/7000 [==============================] - 3s 369us/sample - loss: 0.0297 - val_loss: 0.0094\n",
      "Epoch 2/20\n",
      "7000/7000 [==============================] - 2s 260us/sample - loss: 0.0073 - val_loss: 0.0058\n",
      "Epoch 3/20\n",
      "7000/7000 [==============================] - 2s 250us/sample - loss: 0.0052 - val_loss: 0.0044\n",
      "Epoch 4/20\n",
      "7000/7000 [==============================] - 2s 276us/sample - loss: 0.0043 - val_loss: 0.0038\n",
      "Epoch 5/20\n",
      "7000/7000 [==============================] - 2s 259us/sample - loss: 0.0038 - val_loss: 0.0035\n",
      "Epoch 6/20\n",
      "7000/7000 [==============================] - 2s 275us/sample - loss: 0.0035 - val_loss: 0.0031\n",
      "Epoch 7/20\n",
      "7000/7000 [==============================] - 2s 334us/sample - loss: 0.0033 - val_loss: 0.0031\n",
      "Epoch 8/20\n",
      "7000/7000 [==============================] - 2s 272us/sample - loss: 0.0032 - val_loss: 0.0031\n",
      "Epoch 9/20\n",
      "7000/7000 [==============================] - 2s 279us/sample - loss: 0.0031 - val_loss: 0.0029\n",
      "Epoch 10/20\n",
      "7000/7000 [==============================] - 2s 280us/sample - loss: 0.0031 - val_loss: 0.0031\n",
      "Epoch 11/20\n",
      "7000/7000 [==============================] - 2s 335us/sample - loss: 0.0030 - val_loss: 0.0028\n",
      "Epoch 12/20\n",
      "7000/7000 [==============================] - 2s 253us/sample - loss: 0.0031 - val_loss: 0.0027\n",
      "Epoch 13/20\n",
      "7000/7000 [==============================] - 2s 250us/sample - loss: 0.0030 - val_loss: 0.0030\n",
      "Epoch 14/20\n",
      "7000/7000 [==============================] - 2s 255us/sample - loss: 0.0030 - val_loss: 0.0028\n",
      "Epoch 15/20\n",
      "7000/7000 [==============================] - 2s 285us/sample - loss: 0.0030 - val_loss: 0.0026\n",
      "Epoch 16/20\n",
      "7000/7000 [==============================] - 2s 250us/sample - loss: 0.0029 - val_loss: 0.0027\n",
      "Epoch 17/20\n",
      "7000/7000 [==============================] - 2s 288us/sample - loss: 0.0029 - val_loss: 0.0026\n",
      "Epoch 18/20\n",
      "7000/7000 [==============================] - 2s 260us/sample - loss: 0.0029 - val_loss: 0.0029\n",
      "Epoch 19/20\n",
      "7000/7000 [==============================] - 2s 270us/sample - loss: 0.0029 - val_loss: 0.0026\n",
      "Epoch 20/20\n",
      "7000/7000 [==============================] - 2s 256us/sample - loss: 0.0028 - val_loss: 0.0027\n"
     ]
    }
   ],
   "source": [
    "np.random.seed(42)\n",
    "\n",
    "simple_rnn_model = keras.models.Sequential([\n",
    "    keras.layers.SimpleRNN(20, input_shape=[None, 1]),\n",
    "    keras.layers.Dense(1)\n",
    "])\n",
    "\n",
    "simple_rnn_model.compile(loss=\"mse\", optimizer=\"adam\")\n",
    "simple_rnn_history = simple_rnn_model.fit(X_train, y_train, epochs=20, \n",
    "                     validation_data=(X_valid, y_valid))"
   ]
  },
  {
   "cell_type": "code",
   "execution_count": 15,
   "metadata": {},
   "outputs": [],
   "source": [
    "def plot_loss_curves(history):\n",
    "    plt.figure(figsize=(12,6))\n",
    "    plt.plot(history.history[\"loss\"], label=\"Training loss\")\n",
    "    plt.plot(history.history[\"val_loss\"], label=\"Validation loss\")\n",
    "    plt.xlabel(\"Epoch\")\n",
    "    plt.ylabel(\"Loss\")\n",
    "    plt.legend()\n",
    "    plt.show()"
   ]
  },
  {
   "cell_type": "code",
   "execution_count": 16,
   "metadata": {},
   "outputs": [
    {
     "data": {
      "image/png": "[encoded data removed]",
      "text/plain": [
       "<Figure size 864x432 with 1 Axes>"
      ]
     },
     "metadata": {},
     "output_type": "display_data"
    }
   ],
   "source": [
    "plot_loss_curves(simple_rnn_history)"
   ]
  },
  {
   "cell_type": "code",
   "execution_count": 17,
   "metadata": {},
   "outputs": [
    {
     "name": "stdout",
     "output_type": "stream",
     "text": [
      "1000/1000 [==============================] - 0s 132us/sample - loss: 0.0028\n"
     ]
    },
    {
     "data": {
      "text/plain": [
       "0.00275010147690773"
      ]
     },
     "execution_count": 17,
     "metadata": {},
     "output_type": "execute_result"
    }
   ],
   "source": [
    "simple_rnn_model.evaluate(X_test, y_test)"
   ]
  },
  {
   "cell_type": "code",
   "execution_count": 18,
   "metadata": {},
   "outputs": [
    {
     "data": {
      "image/png": "[encoded data removed]",
      "text/plain": [
       "<Figure size 432x288 with 1 Axes>"
      ]
     },
     "metadata": {},
     "output_type": "display_data"
    }
   ],
   "source": [
    "simple_rnn_y_pred = simple_rnn_model.predict(X_test)\n",
    "plot_series(X_test[0, :, 0], y_test[0, 0], simple_rnn_y_pred[0, 0])\n",
    "plt.show()"
   ]
  },
  {
   "cell_type": "code",
   "execution_count": 19,
   "metadata": {
    "scrolled": true
   },
   "outputs": [
    {
     "name": "stdout",
     "output_type": "stream",
     "text": [
      "Simple RNN Error: 0.020383473485708237\n"
     ]
    }
   ],
   "source": [
    "print(\"Simple RNN Error: {}\".format(y_test[0,0] - simple_rnn_y_pred[0,0]))"
   ]
  },
  {
   "cell_type": "markdown",
   "metadata": {},
   "source": [
    "###  2. LSTM"
   ]
  },
  {
   "cell_type": "code",
   "execution_count": 63,
   "metadata": {
    "scrolled": true
   },
   "outputs": [
    {
     "name": "stdout",
     "output_type": "stream",
     "text": [
      "[[[0.00767819]\n",
      "  [0.01597687]\n",
      "  [0.02480671]]] (1, 3, 1)\n"
     ]
    }
   ],
   "source": [
    "k_init = keras.initializers.Constant(value=0.1)\n",
    "b_init = keras.initializers.Constant(value=0)\n",
    "r_init = keras.initializers.Constant(value=0.1)\n",
    "\n",
    "units = 1\n",
    "\n",
    "inputs1 = keras.layers.Input(shape=(3, 2))\n",
    "lstm1 = keras.layers.LSTM(units, return_sequences=True, kernel_initializer=k_init, bias_initializer=b_init, recurrent_initializer=r_init)(inputs1)\n",
    "model = keras.models.Model(inputs=inputs1, outputs=lstm1)\n",
    "\n",
    "data = np.array([0.1, 0.2, 0.3, 0.1, 0.2, 0.3]).reshape((1,3,2))\n",
    "\n",
    "output = model.predict(data)\n",
    "print(output, output.shape)"
   ]
  },
  {
   "cell_type": "code",
   "execution_count": 64,
   "metadata": {},
   "outputs": [
    {
     "name": "stdout",
     "output_type": "stream",
     "text": [
      "[[0.02480671]] (1, 1)\n"
     ]
    }
   ],
   "source": [
    "inputs1 = keras.layers.Input(shape=(3, 2))\n",
    "lstm1 = keras.layers.LSTM(units, kernel_initializer=k_init, bias_initializer=b_init, recurrent_initializer=r_init)(inputs1)\n",
    "model = keras.models.Model(inputs=inputs1, outputs=lstm1)\n",
    "\n",
    "data = np.array([0.1, 0.2, 0.3, 0.1, 0.2, 0.3]).reshape((1,3,2))\n",
    "\n",
    "preds = model.predict(data)\n",
    "print(preds, preds.shape)"
   ]
  },
  {
   "cell_type": "code",
   "execution_count": 65,
   "metadata": {},
   "outputs": [
    {
     "data": {
      "text/plain": [
       "array([[[0.1, 0.2],\n",
       "        [0.3, 0.1],\n",
       "        [0.2, 0.3]]])"
      ]
     },
     "execution_count": 65,
     "metadata": {},
     "output_type": "execute_result"
    }
   ],
   "source": []
  },
  {
   "cell_type": "code",
   "execution_count": 66,
   "metadata": {
    "scrolled": false
   },
   "outputs": [
    {
     "name": "stdout",
     "output_type": "stream",
     "text": [
      "Train on 7000 samples, validate on 2000 samples\n",
      "Epoch 1/20\n",
      "7000/7000 [==============================] - 10s 1ms/sample - loss: 0.0690 - val_loss: 0.0300\n",
      "Epoch 2/20\n",
      "7000/7000 [==============================] - 8s 1ms/sample - loss: 0.0262 - val_loss: 0.0218\n",
      "Epoch 3/20\n",
      "7000/7000 [==============================] - 8s 1ms/sample - loss: 0.0188 - val_loss: 0.0166\n",
      "Epoch 4/20\n",
      "7000/7000 [==============================] - 11s 2ms/sample - loss: 0.0120 - val_loss: 0.0097\n",
      "Epoch 5/20\n",
      "7000/7000 [==============================] - 10s 1ms/sample - loss: 0.0071 - val_loss: 0.0050\n",
      "Epoch 6/20\n",
      "7000/7000 [==============================] - 9s 1ms/sample - loss: 0.0043 - val_loss: 0.0034\n",
      "Epoch 7/20\n",
      "7000/7000 [==============================] - 9s 1ms/sample - loss: 0.0035 - val_loss: 0.0031\n",
      "Epoch 8/20\n",
      "7000/7000 [==============================] - 9s 1ms/sample - loss: 0.0033 - val_loss: 0.0031\n",
      "Epoch 9/20\n",
      "7000/7000 [==============================] - 10s 1ms/sample - loss: 0.0031 - val_loss: 0.0029\n",
      "Epoch 10/20\n",
      "7000/7000 [==============================] - 9s 1ms/sample - loss: 0.0031 - val_loss: 0.0028\n",
      "Epoch 11/20\n",
      "7000/7000 [==============================] - 8s 1ms/sample - loss: 0.0031 - val_loss: 0.0028\n",
      "Epoch 12/20\n",
      "7000/7000 [==============================] - 9s 1ms/sample - loss: 0.0030 - val_loss: 0.0027\n",
      "Epoch 13/20\n",
      "7000/7000 [==============================] - 9s 1ms/sample - loss: 0.0030 - val_loss: 0.0031\n",
      "Epoch 14/20\n",
      "7000/7000 [==============================] - 9s 1ms/sample - loss: 0.0029 - val_loss: 0.0029\n",
      "Epoch 15/20\n",
      "7000/7000 [==============================] - 8s 1ms/sample - loss: 0.0029 - val_loss: 0.0027\n",
      "Epoch 16/20\n",
      "7000/7000 [==============================] - 8s 1ms/sample - loss: 0.0029 - val_loss: 0.0026\n",
      "Epoch 17/20\n",
      "7000/7000 [==============================] - 8s 1ms/sample - loss: 0.0029 - val_loss: 0.0026\n",
      "Epoch 18/20\n",
      "7000/7000 [==============================] - 8s 1ms/sample - loss: 0.0029 - val_loss: 0.0029\n",
      "Epoch 19/20\n",
      "7000/7000 [==============================] - 8s 1ms/sample - loss: 0.0029 - val_loss: 0.0026\n",
      "Epoch 20/20\n",
      "7000/7000 [==============================] - 8s 1ms/sample - loss: 0.0028 - val_loss: 0.0027\n"
     ]
    }
   ],
   "source": [
    "np.random.seed(42)\n",
    "\n",
    "lstm_model = keras.models.Sequential([\n",
    "    keras.layers.LSTM(units=20, input_shape=[None, 1]),\n",
    "    keras.layers.Dense(1)\n",
    "])\n",
    "\n",
    "lstm_model.compile(loss=\"mse\", optimizer=\"adam\")\n",
    "lstm_history = lstm_model.fit(X_train, y_train, epochs=20, \n",
    "                    validation_data=(X_valid, y_valid))"
   ]
  },
  {
   "cell_type": "code",
   "execution_count": 67,
   "metadata": {},
   "outputs": [
    {
     "data": {
      "image/png": "[encoded data removed]",
      "text/plain": [
       "<Figure size 864x432 with 1 Axes>"
      ]
     },
     "metadata": {},
     "output_type": "display_data"
    }
   ],
   "source": [
    "plot_loss_curves(lstm_history)"
   ]
  },
  {
   "cell_type": "code",
   "execution_count": 68,
   "metadata": {
    "scrolled": true
   },
   "outputs": [
    {
     "name": "stdout",
     "output_type": "stream",
     "text": [
      "1000/1000 [==============================] - 0s 271us/sample - loss: 0.0031\n"
     ]
    },
    {
     "data": {
      "text/plain": [
       "0.0030691268322989343"
      ]
     },
     "execution_count": 68,
     "metadata": {},
     "output_type": "execute_result"
    }
   ],
   "source": [
    "lstm_model.evaluate(X_test, y_test)"
   ]
  },
  {
   "cell_type": "code",
   "execution_count": 69,
   "metadata": {},
   "outputs": [
    {
     "data": {
      "image/png": "[encoded data removed]",
      "text/plain": [
       "<Figure size 432x288 with 1 Axes>"
      ]
     },
     "metadata": {},
     "output_type": "display_data"
    }
   ],
   "source": [
    "lstm_y_pred = lstm_model.predict(X_test)\n",
    "plot_series(X_test[0, :, 0], y_test[0, 0], lstm_y_pred[0, 0])\n",
    "plt.show()"
   ]
  },
  {
   "cell_type": "code",
   "execution_count": 70,
   "metadata": {
    "scrolled": true
   },
   "outputs": [
    {
     "name": "stdout",
     "output_type": "stream",
     "text": [
      "LSTM Error: -0.003457290285310749\n"
     ]
    }
   ],
   "source": [
    "print(\"LSTM Error: {}\".format(y_test[0,0] - lstm_y_pred[0,0]))"
   ]
  },
  {
   "cell_type": "markdown",
   "metadata": {},
   "source": [
    "## 1-C. LSTM 이용하여 다음 글자 예측하기"
   ]
  },
  {
   "cell_type": "code",
   "execution_count": 72,
   "metadata": {},
   "outputs": [],
   "source": [
    "shakespeare_url = \"https://raw.githubusercontent.com/karpathy/char-rnn/master/data/tinyshakespeare/input.txt\"\n",
    "filepath = keras.utils.get_file(\"shakespeare.txt\", shakespeare_url)\n",
    "with open(filepath) as f:\n",
    "    shakespeare_text = f.read()\n",
    "    "
   ]
  },
  {
   "cell_type": "code",
   "execution_count": 73,
   "metadata": {},
   "outputs": [],
   "source": [
    "tokenizer = keras.preprocessing.text.Tokenizer(char_level=True)\n",
    "tokenizer.fit_on_texts(shakespeare_text)"
   ]
  },
  {
   "cell_type": "code",
   "execution_count": 77,
   "metadata": {},
   "outputs": [
    {
     "data": {
      "text/plain": [
       "[[20, 6, 9, 8, 3]]"
      ]
     },
     "execution_count": 77,
     "metadata": {},
     "output_type": "execute_result"
    }
   ],
   "source": [
    "tokenizer.texts_to_sequences([\"First\"])"
   ]
  },
  {
   "cell_type": "code",
   "execution_count": 78,
   "metadata": {},
   "outputs": [
    {
     "data": {
      "text/plain": [
       "['f i r s t']"
      ]
     },
     "execution_count": 78,
     "metadata": {},
     "output_type": "execute_result"
    }
   ],
   "source": [
    "tokenizer.sequences_to_texts([[20, 6, 9, 8, 3]])"
   ]
  },
  {
   "cell_type": "code",
   "execution_count": 79,
   "metadata": {},
   "outputs": [],
   "source": [
    "max_id = len(tokenizer.word_index) \n",
    "dataset_size = tokenizer.document_count "
   ]
  },
  {
   "cell_type": "code",
   "execution_count": 83,
   "metadata": {},
   "outputs": [
    {
     "data": {
      "text/plain": [
       "(39, 1115394)"
      ]
     },
     "execution_count": 83,
     "metadata": {},
     "output_type": "execute_result"
    }
   ],
   "source": [
    "max_id,dataset_size"
   ]
  },
  {
   "cell_type": "code",
   "execution_count": 82,
   "metadata": {},
   "outputs": [],
   "source": [
    "[encoded] = np.array(tokenizer.texts_to_sequences([shakespeare_text])) - 1\n",
    "train_size = dataset_size * 1 // 100"
   ]
  },
  {
   "cell_type": "code",
   "execution_count": 96,
   "metadata": {},
   "outputs": [],
   "source": [
    "dataset = tf.data.Dataset.from_tensor_slices(encoded[:train_size])"
   ]
  },
  {
   "cell_type": "code",
   "execution_count": 97,
   "metadata": {},
   "outputs": [
    {
     "name": "stdout",
     "output_type": "stream",
     "text": [
      "<DatasetV1Adapter shapes: (), types: tf.int64>\n"
     ]
    }
   ],
   "source": [
    "print(dataset)"
   ]
  },
  {
   "cell_type": "code",
   "execution_count": 85,
   "metadata": {},
   "outputs": [],
   "source": [
    "n_steps = 100\n",
    "window_length = n_steps + 1 \n",
    "dataset = dataset.repeat().window(window_length, shift=1, \n",
    "                                  drop_remainder=True)"
   ]
  },
  {
   "cell_type": "code",
   "execution_count": 86,
   "metadata": {
    "scrolled": true
   },
   "outputs": [],
   "source": [
    "dataset = dataset.flat_map(lambda window: window.batch(window_length))"
   ]
  },
  {
   "cell_type": "code",
   "execution_count": 87,
   "metadata": {},
   "outputs": [],
   "source": [
    "np.random.seed(42)"
   ]
  },
  {
   "cell_type": "code",
   "execution_count": 94,
   "metadata": {},
   "outputs": [
    {
     "name": "stdout",
     "output_type": "stream",
     "text": [
      "<DatasetV1Adapter shapes: ((?, ?, ?, 39), (?, ?, ?)), types: (tf.float32, tf.int64)>\n"
     ]
    }
   ],
   "source": [
    "batch_size = 32\n",
    "dataset = dataset.shuffle(10000).batch(batch_size)\n",
    "\n",
    "print(dataset)"
   ]
  },
  {
   "cell_type": "code",
   "execution_count": null,
   "metadata": {},
   "outputs": [],
   "source": [
    "dataset = dataset.map(lambda windows: (windows[:, :-1], windows[:, 1:]))"
   ]
  },
  {
   "cell_type": "code",
   "execution_count": 89,
   "metadata": {},
   "outputs": [],
   "source": [
    "dataset = dataset.map(lambda X_batch, Y_batch: \n",
    "                      (tf.one_hot(X_batch, depth=max_id), Y_batch))"
   ]
  },
  {
   "cell_type": "code",
   "execution_count": 90,
   "metadata": {
    "scrolled": true
   },
   "outputs": [
    {
     "name": "stdout",
     "output_type": "stream",
     "text": [
      "Epoch 1/10\n",
      "348/348 [==============================] - 49s 142ms/step - loss: 3.1400\n",
      "Epoch 2/10\n",
      "348/348 [==============================] - 47s 136ms/step - loss: 2.9750\n",
      "Epoch 3/10\n",
      "348/348 [==============================] - 48s 137ms/step - loss: 2.8325\n",
      "Epoch 4/10\n",
      "348/348 [==============================] - 47s 136ms/step - loss: 2.7269\n",
      "Epoch 5/10\n",
      "348/348 [==============================] - 46s 133ms/step - loss: 2.6523\n",
      "Epoch 6/10\n",
      "348/348 [==============================] - 46s 132ms/step - loss: 2.5851\n",
      "Epoch 7/10\n",
      "348/348 [==============================] - 47s 135ms/step - loss: 2.5361\n",
      "Epoch 8/10\n",
      "348/348 [==============================] - 47s 135ms/step - loss: 2.4960\n",
      "Epoch 9/10\n",
      "348/348 [==============================] - 47s 136ms/step - loss: 2.4680\n",
      "Epoch 10/10\n",
      "348/348 [==============================] - 46s 132ms/step - loss: 2.4427\n"
     ]
    }
   ],
   "source": [
    "lstm_model = keras.models.Sequential([\n",
    "    keras.layers.LSTM(20, dropout=0.5, return_sequences=True, \n",
    "                      input_shape=[None, max_id]),\n",
    "    keras.layers.LSTM(20, dropout=0.5, return_sequences=True),\n",
    "    keras.layers.Dense(max_id, activation=\"softmax\")\n",
    "])\n",
    "\n",
    "lstm_model.compile(loss=\"sparse_categorical_crossentropy\", \n",
    "              optimizer=\"adam\")\n",
    "lstm_history = lstm_model.fit(dataset, \n",
    "                    steps_per_epoch=train_size // batch_size, \n",
    "                    epochs=10)"
   ]
  },
  {
   "cell_type": "code",
   "execution_count": 91,
   "metadata": {},
   "outputs": [],
   "source": [
    "def preprocess(texts):\n",
    "    X = np.array(tokenizer.texts_to_sequences(texts)) - 1\n",
    "    return tf.one_hot(X, max_id)"
   ]
  },
  {
   "cell_type": "code",
   "execution_count": 102,
   "metadata": {},
   "outputs": [],
   "source": [
    "X_new = preprocess([\"How are yo\"])\n",
    "sess = tf.Session()\n",
    "with sess.as_default():\n",
    "    X_new = X_new.eval()"
   ]
  },
  {
   "cell_type": "code",
   "execution_count": 105,
   "metadata": {},
   "outputs": [
    {
     "data": {
      "text/plain": [
       "'u'"
      ]
     },
     "execution_count": 105,
     "metadata": {},
     "output_type": "execute_result"
    }
   ],
   "source": [
    "lstm_Y_pred = lstm_model.predict_classes(X_new)\n",
    "tokenizer.sequences_to_texts(lstm_Y_pred + 1)[0][-1]"
   ]
  },
  {
   "cell_type": "code",
   "execution_count": null,
   "metadata": {},
   "outputs": [],
   "source": []
  }
 ],
 "metadata": {
  "kernelspec": {
   "display_name": "Python 3",
   "language": "python",
   "name": "python3"
  },
  "language_info": {
   "codemirror_mode": {
    "name": "ipython",
    "version": 3
   },
   "file_extension": ".py",
   "mimetype": "text/x-python",
   "name": "python",
   "nbconvert_exporter": "python",
   "pygments_lexer": "ipython3",
   "version": "3.6.4"
  }
 },
 "nbformat": 4,
 "nbformat_minor": 2
}
