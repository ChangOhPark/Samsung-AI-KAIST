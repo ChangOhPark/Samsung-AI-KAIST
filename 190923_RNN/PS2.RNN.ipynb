{
 "cells": [
  {
   "cell_type": "markdown",
   "metadata": {},
   "source": [
    "# <div style=\"text-align: center\"> Recurrent Neural Networks (RNN)</div>\n",
    "#### <div style=\"text-align: right\"> 2019.09.23 Monday</div>\n",
    "#### <div style=\"text-align: right\"> Prof. Changho Suh, TA Jaewoong Cho, Junhyung Ahn</div>"
   ]
  },
  {
   "cell_type": "markdown",
   "metadata": {},
   "source": [
    "**실습목표**\n",
    "- Simple RNN 생성하기\n",
    "- RNN을 훈련하여 시계열 예측하기 \n",
    "- Long Short-Term Memory (LSTM)\n",
    "- LSTM을 훈련하여 문장의 다음 글자 예측하기"
   ]
  },
  {
   "cell_type": "code",
   "execution_count": 3,
   "metadata": {},
   "outputs": [],
   "source": [
    "import tensorflow as tf\n",
    "import numpy as np\n",
    "import os\n",
    "import matplotlib as mpl\n",
    "import matplotlib.pyplot as plt\n",
    "\n",
    "from tensorflow import keras\n",
    "from keras import backend as K"
   ]
  },
  {
   "cell_type": "code",
   "execution_count": 4,
   "metadata": {},
   "outputs": [
    {
     "name": "stderr",
     "output_type": "stream",
     "text": [
      "/Library/Frameworks/Python.framework/Versions/3.6/lib/python3.6/site-packages/tensorflow/python/client/session.py:1735: UserWarning: An interactive session is already active. This can cause out-of-memory errors in some cases. You must explicitly call `InteractiveSession.close()` to release resources held by the other session(s).\n",
      "  warnings.warn('An interactive session is already active. This can '\n"
     ]
    }
   ],
   "source": [
    "from tensorflow.compat.v1 import ConfigProto\n",
    "from tensorflow.compat.v1 import InteractiveSession\n",
    "\n",
    "config = ConfigProto()\n",
    "config.gpu_options.allow_growth = True\n",
    "session = InteractiveSession(config=config)"
   ]
  },
  {
   "cell_type": "markdown",
   "metadata": {},
   "source": [
    "## 1-A. BasicRNNCell 함수 사용하여 RNN 생성하기"
   ]
  },
  {
   "cell_type": "code",
   "execution_count": 6,
   "metadata": {},
   "outputs": [
    {
     "name": "stdout",
     "output_type": "stream",
     "text": [
      "Output: \n",
      " [array([[ 0.75263786,  0.2549876 ,  0.6432549 ,  0.88935304, -0.75778127],\n",
      "       [ 0.99823064, -0.83952594, -0.46472752,  0.9793129 , -0.9095983 ],\n",
      "       [ 0.999989  , -0.99100506, -0.94364816,  0.9962763 , -0.96799266],\n",
      "       [ 0.83088094, -0.9963645 , -0.9998024 , -0.9978991 ,  0.99995214]],\n",
      "      dtype=float32)] \n",
      "\n",
      "States: \n",
      " [[ 0.75263786  0.2549876   0.6432549   0.88935304 -0.75778127]\n",
      " [ 0.99823064 -0.83952594 -0.46472752  0.9793129  -0.9095983 ]\n",
      " [ 0.999989   -0.99100506 -0.94364816  0.9962763  -0.96799266]\n",
      " [ 0.83088094 -0.9963645  -0.9998024  -0.9978991   0.99995214]]\n",
      "\n",
      "Output == States? \n",
      " [[[ True  True  True  True  True]\n",
      "  [ True  True  True  True  True]\n",
      "  [ True  True  True  True  True]\n",
      "  [ True  True  True  True  True]]]\n"
     ]
    }
   ],
   "source": [
    "# h0 = y0\n",
    "n_steps = 1\n",
    "input_dim= 3\n",
    "output_dim = 5\n",
    "\n",
    "X = tf.placeholder(tf.float32, [None,input_dim])\n",
    "\n",
    "\n",
    "with tf.variable_scope(\"static_rnn1\", reuse=tf.AUTO_REUSE):\n",
    "    basic_cell = tf.contrib.rnn.BasicRNNCell(num_units=output_dim)\n",
    "    outputs, states = tf.nn.static_rnn(cell=basic_cell, \n",
    "                                       inputs=[X], \n",
    "                                       dtype=tf.float32,)\n",
    "\n",
    "X_batch  = np.array([[0,1,2],    \n",
    "                     [3,4,5],    \n",
    "                     [6,7,8],    \n",
    "                     [9,0,1]])    \n",
    "\n",
    "with tf.Session() as sess:\n",
    "    init = tf.global_variables_initializer()\n",
    "    init.run()\n",
    "    output_vals, states_val = sess.run([outputs, states], \n",
    "                                       feed_dict= {X: X_batch})\n",
    "\n",
    "print(\"Output: \\n {} \\n\".format(output_vals))\n",
    "print(\"States: \\n {}\\n\".format(states_val))\n",
    "print(\"Output == States? \\n {}\".format(output_vals==states_val))"
   ]
  },
  {
   "cell_type": "code",
   "execution_count": 7,
   "metadata": {},
   "outputs": [
    {
     "name": "stdout",
     "output_type": "stream",
     "text": [
      "Y0_val: \n",
      "[[ 0.7757696  -0.18567282  0.10213619 -0.3647488   0.6396898 ]\n",
      " [ 0.9506891   0.9414699   0.98415405  0.58706707 -0.23478928]\n",
      " [ 0.98992974  0.99875236  0.9998434   0.93890333 -0.8443548 ]\n",
      " [-0.97309005  0.9998412   0.99993825  0.9924921  -0.99953246]]\n",
      "Y1_val: \n",
      "[[ 0.6442961   0.9999914   0.9999994   0.9989242  -0.9989959 ]\n",
      " [-0.8275744   0.93475366  0.56923896  0.4233291  -0.5209866 ]\n",
      " [-0.49106044  0.99998873  0.99994254  0.9924001  -0.99811655]\n",
      " [-0.04610159  0.99433315  0.95029104  0.914551   -0.9630546 ]]\n",
      "State_val: \n",
      "[[ 0.6442961   0.9999914   0.9999994   0.9989242  -0.9989959 ]\n",
      " [-0.8275744   0.93475366  0.56923896  0.4233291  -0.5209866 ]\n",
      " [-0.49106044  0.99998873  0.99994254  0.9924001  -0.99811655]\n",
      " [-0.04610159  0.99433315  0.95029104  0.914551   -0.9630546 ]]\n"
     ]
    }
   ],
   "source": [
    "# 정적으로 타임 스텝 펼치기\n",
    "X0 = tf.placeholder(tf.float32, [None, input_dim])\n",
    "X1 =  tf.placeholder(tf.float32, [None, input_dim])\n",
    "\n",
    "# 미니배치\n",
    "X0_batch = np.array([[0,1,2],\n",
    "                     [3,4,5],\n",
    "                     [6,7,8],\n",
    "                     [9,0,1]]) #t=0\n",
    "X1_batch = np.array([[9,8,7],\n",
    "                     [0,0,0],\n",
    "                     [6,5,4],\n",
    "                     [3,2,1]]) #t=1\n",
    "\n",
    "with tf.variable_scope(\"static_rnn2\", reuse=tf.AUTO_REUSE):\n",
    "    basic_cell = tf.contrib.rnn.BasicRNNCell(num_units=output_dim)\n",
    "    output_seqs, states = tf.contrib.rnn.static_rnn(cell=basic_cell,\n",
    "                                                    inputs=[X0,X1],\n",
    "                                                    dtype=tf.float32)\n",
    "    Y0,Y1 = output_seqs\n",
    "\n",
    "with tf.Session() as sess:\n",
    "    init = tf.global_variables_initializer()\n",
    "    sess.run(init)\n",
    "    Y0_val, Y1_val = sess.run([Y0,Y1], feed_dict={X0: X0_batch, X1:X1_batch})\n",
    "    state_val = sess.run(states, feed_dict={X0: X0_batch, X1:X1_batch})\n",
    "    \n",
    "print(\"Y0_val: \\n{}\".format(Y0_val))      # t=0에서 y \n",
    "print(\"Y1_val: \\n{}\".format(Y1_val))      # t=1에서 y \n",
    "print(\"State_val: \\n{}\".format(state_val)) # t=1에서의 h"
   ]
  },
  {
   "cell_type": "code",
   "execution_count": 9,
   "metadata": {},
   "outputs": [
    {
     "name": "stdout",
     "output_type": "stream",
     "text": [
      "Output: \n",
      " [[[ 0.7995446  -0.19910215  0.8454795  -0.5865879  -0.8807917 ]\n",
      "  [ 0.6314698  -0.99830294  1.         -0.9475772  -0.9999998 ]]\n",
      "\n",
      " [[ 0.8790074  -0.9105236   0.99990505 -0.8829515  -0.99967223]\n",
      "  [ 0.          0.          0.          0.          0.        ]]\n",
      "\n",
      " [[ 0.9282266  -0.9934537   1.         -0.9707739  -0.9999991 ]\n",
      "  [ 0.72306895 -0.9444617   0.99999785 -0.69367266 -0.9999432 ]]\n",
      "\n",
      " [[-0.99739194 -0.00743822  0.9999948   0.9966025  -0.9929053 ]\n",
      "  [-0.8355269  -0.8894046   0.9824948  -0.0399096  -0.9067747 ]]] \n",
      "\n",
      "States: \n",
      " [[ 0.6314698  -0.99830294  1.         -0.9475772  -0.9999998 ]\n",
      " [ 0.8790074  -0.9105236   0.99990505 -0.8829515  -0.99967223]\n",
      " [ 0.72306895 -0.9444617   0.99999785 -0.69367266 -0.9999432 ]\n",
      " [-0.8355269  -0.8894046   0.9824948  -0.0399096  -0.9067747 ]]\n"
     ]
    }
   ],
   "source": [
    "# 가변 길이 시퀀스 입력\n",
    "n_steps = 2\n",
    "\n",
    "X = tf.placeholder(tf.float32, [None, n_steps, input_dim])\n",
    "seq_length  = tf.placeholder(tf.int32, [None])\n",
    "with tf.variable_scope(\"dynamic_rnn\", reuse=tf.AUTO_REUSE):\n",
    "    basic_cell = tf.contrib.rnn.BasicRNNCell(num_units=output_dim)\n",
    "    outputs, states = tf.nn.dynamic_rnn(cell=basic_cell, \n",
    "                                        inputs=X, \n",
    "                                        dtype=tf.float32,\n",
    "                                        sequence_length=seq_length)\n",
    "\n",
    "X_batch  = np.array([\n",
    "                     # t = 0  # t = 1      \n",
    "                     [[0,1,2],[9,8,7]],    # 샘플 0\n",
    "                     [[3,4,5],[10,10,10]], # 샘플 1\n",
    "                     [[6,7,8],[6,5,4]],    # 샘플 2\n",
    "                     [[9,0,1],[3,2,1]]])   # 샘플 3\n",
    "\n",
    "seq_length_batch = np.array([2,1,2,2])\n",
    "\n",
    "with tf.Session() as sess:\n",
    "    init = tf.global_variables_initializer()\n",
    "    init.run()\n",
    "    output_vals, states_val = sess.run([outputs,states], \n",
    "                                       feed_dict={X:X_batch, \n",
    "                                                  seq_length:seq_length_batch})\n",
    "    \n",
    "print(\"Output: \\n {} \\n\".format(output_vals))\n",
    "print(\"States: \\n {}\".format(states_val))"
   ]
  },
  {
   "cell_type": "markdown",
   "metadata": {},
   "source": [
    "## 1-B. 시계열 예측을 위해 훈련하기"
   ]
  },
  {
   "cell_type": "markdown",
   "metadata": {},
   "source": [
    "## 1) Dataset\n",
    "- generate synthetic data"
   ]
  },
  {
   "cell_type": "code",
   "execution_count": 12,
   "metadata": {
    "scrolled": true
   },
   "outputs": [],
   "source": [
    "def generate_time_series(batch_size, n_steps):\n",
    "    freq1, freq2, offsets1, offsets2 = np.random.rand(4, batch_size, 1)\n",
    "    time = np.linspace(0, 1, n_steps)\n",
    "    series = 0.5 * np.sin((time - offsets1) * (freq1 * 10 + 10))  \n",
    "    series += 0.2 * np.sin((time - offsets2) * (freq2 * 20 + 20)) \n",
    "    series += 0.1 * (np.random.rand(batch_size, n_steps) - 0.5)  \n",
    "    return np.expand_dims(series,2)"
   ]
  },
  {
   "cell_type": "code",
   "execution_count": 13,
   "metadata": {},
   "outputs": [],
   "source": [
    "np.random.seed(42)\n",
    "\n",
    "n_steps = 50\n",
    "series = generate_time_series(10000, n_steps + 1)"
   ]
  },
  {
   "cell_type": "code",
   "execution_count": 14,
   "metadata": {},
   "outputs": [],
   "source": [
    "X_train, y_train = series[:7000, :n_steps], series[:7000, -1]\n",
    "X_valid, y_valid = series[7000:9000, :n_steps], series[7000:9000, -1]\n",
    "X_test, y_test = series[9000:, :n_steps], series[9000:, -1]"
   ]
  },
  {
   "cell_type": "code",
   "execution_count": 15,
   "metadata": {},
   "outputs": [
    {
     "data": {
      "text/plain": [
       "((7000, 50, 1), (7000, 1))"
      ]
     },
     "execution_count": 15,
     "metadata": {},
     "output_type": "execute_result"
    }
   ],
   "source": [
    "X_train.shape, y_train.shape"
   ]
  },
  {
   "cell_type": "markdown",
   "metadata": {},
   "source": [
    "## 2) Functions"
   ]
  },
  {
   "cell_type": "code",
   "execution_count": 27,
   "metadata": {},
   "outputs": [
    {
     "data": {
      "image/png": "[encoded data removed]",
      "text/plain": [
       "<Figure size 864x288 with 3 Axes>"
      ]
     },
     "metadata": {},
     "output_type": "display_data"
    }
   ],
   "source": [
    "# Synthetic data plotting하기\n",
    "def plot_series(series, \n",
    "                y=None, \n",
    "                y_pred=None):\n",
    "    plt.plot(series, \".-\")\n",
    "    if y is not None:\n",
    "        plt.plot(n_steps, y, \"bx\", markersize=10, label='Actual')\n",
    "    if y_pred is not None:\n",
    "        plt.plot(n_steps, y_pred, \"ro\",label='Prediction')\n",
    "    plt.grid(True)\n",
    "    plt.xlabel(\"$t$\")\n",
    "    plt.axis([0, n_steps + 1, -1, 1])\n",
    "\n",
    "fig, axes = plt.subplots(nrows=1,\n",
    "                         ncols=3, \n",
    "                         figsize=(12, 4))\n",
    "for col in range(3):\n",
    "    plt.sca(axes[col])\n",
    "    plot_series(X_valid[col, :, 0], y_valid[col, 0])\n",
    "plt.show()"
   ]
  },
  {
   "cell_type": "code",
   "execution_count": 29,
   "metadata": {},
   "outputs": [],
   "source": [
    "# Loss curve plotting하기\n",
    "def plot_loss_curves(history):\n",
    "    plt.figure(figsize=(12,6))\n",
    "    plt.plot(history.history[\"loss\"], label=\"Training loss\")\n",
    "    plt.plot(history.history[\"val_loss\"], label=\"Validation loss\")\n",
    "    plt.xlabel(\"Epoch\")\n",
    "    plt.ylabel(\"Loss\")\n",
    "    plt.legend()\n",
    "    plt.show()"
   ]
  },
  {
   "cell_type": "markdown",
   "metadata": {},
   "source": [
    "## 3) Models"
   ]
  },
  {
   "cell_type": "markdown",
   "metadata": {},
   "source": [
    "### (1) Simple RNN"
   ]
  },
  {
   "cell_type": "code",
   "execution_count": null,
   "metadata": {},
   "outputs": [],
   "source": [
    "simple_rnn_model = keras.models.Sequential([\n",
    "    keras.layers.SimpleRNN(20, input_shape=[None, 1]),\n",
    "    keras.layers.Dense(1)\n",
    "])"
   ]
  },
  {
   "cell_type": "markdown",
   "metadata": {},
   "source": [
    "###  (2) LSTM"
   ]
  },
  {
   "cell_type": "code",
   "execution_count": null,
   "metadata": {},
   "outputs": [],
   "source": [
    "lstm_model = keras.models.Sequential([\n",
    "    keras.layers.LSTM(units=20, input_shape=[None, 1]),\n",
    "    keras.layers.Dense(1)\n",
    "])"
   ]
  },
  {
   "cell_type": "markdown",
   "metadata": {},
   "source": [
    "## 4) Training"
   ]
  },
  {
   "cell_type": "markdown",
   "metadata": {},
   "source": [
    "### (1) Simple RNN 훈련하기"
   ]
  },
  {
   "cell_type": "code",
   "execution_count": 28,
   "metadata": {
    "scrolled": false
   },
   "outputs": [
    {
     "name": "stdout",
     "output_type": "stream",
     "text": [
      "Train on 7000 samples, validate on 2000 samples\n",
      "Epoch 1/20\n",
      "7000/7000 [==============================] - 2s 327us/sample - loss: 0.0178 - val_loss: 0.0063\n",
      "Epoch 2/20\n",
      "7000/7000 [==============================] - 2s 279us/sample - loss: 0.0053 - val_loss: 0.0045\n",
      "Epoch 3/20\n",
      "7000/7000 [==============================] - 2s 280us/sample - loss: 0.0043 - val_loss: 0.0038\n",
      "Epoch 4/20\n",
      "7000/7000 [==============================] - 2s 253us/sample - loss: 0.0038 - val_loss: 0.0035\n",
      "Epoch 5/20\n",
      "7000/7000 [==============================] - 2s 252us/sample - loss: 0.0036 - val_loss: 0.0033\n",
      "Epoch 6/20\n",
      "7000/7000 [==============================] - 2s 252us/sample - loss: 0.0034 - val_loss: 0.0032\n",
      "Epoch 7/20\n",
      "7000/7000 [==============================] - 2s 271us/sample - loss: 0.0033 - val_loss: 0.0033\n",
      "Epoch 8/20\n",
      "7000/7000 [==============================] - 2s 251us/sample - loss: 0.0033 - val_loss: 0.0031\n",
      "Epoch 9/20\n",
      "7000/7000 [==============================] - 2s 246us/sample - loss: 0.0033 - val_loss: 0.0032\n",
      "Epoch 10/20\n",
      "7000/7000 [==============================] - 2s 247us/sample - loss: 0.0033 - val_loss: 0.0031\n",
      "Epoch 11/20\n",
      "7000/7000 [==============================] - 2s 239us/sample - loss: 0.0033 - val_loss: 0.0031\n",
      "Epoch 12/20\n",
      "7000/7000 [==============================] - 2s 241us/sample - loss: 0.0033 - val_loss: 0.0031\n",
      "Epoch 13/20\n",
      "7000/7000 [==============================] - 2s 244us/sample - loss: 0.0032 - val_loss: 0.0032\n",
      "Epoch 14/20\n",
      "7000/7000 [==============================] - 2s 245us/sample - loss: 0.0033 - val_loss: 0.0033\n",
      "Epoch 15/20\n",
      "7000/7000 [==============================] - 2s 245us/sample - loss: 0.0032 - val_loss: 0.0030\n",
      "Epoch 16/20\n",
      "7000/7000 [==============================] - 2s 247us/sample - loss: 0.0032 - val_loss: 0.0031\n",
      "Epoch 17/20\n",
      "7000/7000 [==============================] - 2s 247us/sample - loss: 0.0032 - val_loss: 0.0030\n",
      "Epoch 18/20\n",
      "7000/7000 [==============================] - 2s 246us/sample - loss: 0.0032 - val_loss: 0.0032\n",
      "Epoch 19/20\n",
      "7000/7000 [==============================] - 2s 247us/sample - loss: 0.0032 - val_loss: 0.0030\n",
      "Epoch 20/20\n",
      "7000/7000 [==============================] - 2s 250us/sample - loss: 0.0032 - val_loss: 0.0030\n"
     ]
    }
   ],
   "source": [
    "simple_rnn_model.compile(loss=\"mse\", optimizer=\"adam\")\n",
    "simple_rnn_history = simple_rnn_model.fit(X_train, y_train, epochs=20, \n",
    "                     validation_data=(X_valid, y_valid))"
   ]
  },
  {
   "cell_type": "code",
   "execution_count": 30,
   "metadata": {},
   "outputs": [
    {
     "data": {
      "image/png": "[encoded data removed]",
      "text/plain": [
       "<Figure size 864x432 with 1 Axes>"
      ]
     },
     "metadata": {},
     "output_type": "display_data"
    }
   ],
   "source": [
    "plot_loss_curves(simple_rnn_history)"
   ]
  },
  {
   "cell_type": "code",
   "execution_count": 31,
   "metadata": {},
   "outputs": [
    {
     "name": "stdout",
     "output_type": "stream",
     "text": [
      "1000/1000 [==============================] - 0s 68us/sample - loss: 0.0031\n"
     ]
    },
    {
     "data": {
      "text/plain": [
       "0.0031279194317758085"
      ]
     },
     "execution_count": 31,
     "metadata": {},
     "output_type": "execute_result"
    }
   ],
   "source": [
    "simple_rnn_model.evaluate(X_test, y_test)"
   ]
  },
  {
   "cell_type": "code",
   "execution_count": 32,
   "metadata": {},
   "outputs": [
    {
     "data": {
      "image/png": "[encoded data removed]",
      "text/plain": [
       "<Figure size 432x288 with 1 Axes>"
      ]
     },
     "metadata": {},
     "output_type": "display_data"
    }
   ],
   "source": [
    "simple_rnn_y_pred = simple_rnn_model.predict(X_test)\n",
    "plot_series(X_test[0, :, 0], y_test[0, 0], simple_rnn_y_pred[0, 0])\n",
    "plt.show()"
   ]
  },
  {
   "cell_type": "code",
   "execution_count": 33,
   "metadata": {
    "scrolled": true
   },
   "outputs": [
    {
     "name": "stdout",
     "output_type": "stream",
     "text": [
      "Simple RNN Error: -0.012018279337368015\n"
     ]
    }
   ],
   "source": [
    "print(\"Simple RNN Error: {}\".format(y_test[0,0] - simple_rnn_y_pred[0,0]))"
   ]
  },
  {
   "cell_type": "markdown",
   "metadata": {},
   "source": [
    "### (2) LSTM 훈련하기"
   ]
  },
  {
   "cell_type": "code",
   "execution_count": 44,
   "metadata": {
    "scrolled": false
   },
   "outputs": [
    {
     "name": "stdout",
     "output_type": "stream",
     "text": [
      "Train on 7000 samples, validate on 2000 samples\n",
      "Epoch 1/20\n",
      "7000/7000 [==============================] - 8s 1ms/sample - loss: 0.0381 - val_loss: 0.0208\n",
      "Epoch 2/20\n",
      "7000/7000 [==============================] - 7s 1ms/sample - loss: 0.0126 - val_loss: 0.0075\n",
      "Epoch 3/20\n",
      "7000/7000 [==============================] - 7s 1ms/sample - loss: 0.0049 - val_loss: 0.0039\n",
      "Epoch 4/20\n",
      "7000/7000 [==============================] - 8s 1ms/sample - loss: 0.0040 - val_loss: 0.0036\n",
      "Epoch 5/20\n",
      "7000/7000 [==============================] - 8s 1ms/sample - loss: 0.0038 - val_loss: 0.0034\n",
      "Epoch 6/20\n",
      "7000/7000 [==============================] - 8s 1ms/sample - loss: 0.0035 - val_loss: 0.0037\n",
      "Epoch 7/20\n",
      "7000/7000 [==============================] - 8s 1ms/sample - loss: 0.0033 - val_loss: 0.0030\n",
      "Epoch 8/20\n",
      "7000/7000 [==============================] - 7s 1ms/sample - loss: 0.0032 - val_loss: 0.0030\n",
      "Epoch 9/20\n",
      "7000/7000 [==============================] - 8s 1ms/sample - loss: 0.0030 - val_loss: 0.0028\n",
      "Epoch 10/20\n",
      "7000/7000 [==============================] - 8s 1ms/sample - loss: 0.0029 - val_loss: 0.0028\n",
      "Epoch 11/20\n",
      "7000/7000 [==============================] - 8s 1ms/sample - loss: 0.0029 - val_loss: 0.0026\n",
      "Epoch 12/20\n",
      "7000/7000 [==============================] - 7s 1ms/sample - loss: 0.0028 - val_loss: 0.0026\n",
      "Epoch 13/20\n",
      "7000/7000 [==============================] - 8s 1ms/sample - loss: 0.0028 - val_loss: 0.0029\n",
      "Epoch 14/20\n",
      "7000/7000 [==============================] - 8s 1ms/sample - loss: 0.0027 - val_loss: 0.0030\n",
      "Epoch 15/20\n",
      "7000/7000 [==============================] - 8s 1ms/sample - loss: 0.0027 - val_loss: 0.0024\n",
      "Epoch 16/20\n",
      "7000/7000 [==============================] - 7s 1ms/sample - loss: 0.0027 - val_loss: 0.0025\n",
      "Epoch 17/20\n",
      "7000/7000 [==============================] - 8s 1ms/sample - loss: 0.0026 - val_loss: 0.0024\n",
      "Epoch 18/20\n",
      "7000/7000 [==============================] - 7s 1ms/sample - loss: 0.0027 - val_loss: 0.0030\n",
      "Epoch 19/20\n",
      "7000/7000 [==============================] - 7s 1ms/sample - loss: 0.0027 - val_loss: 0.0024\n",
      "Epoch 20/20\n",
      "7000/7000 [==============================] - 7s 1ms/sample - loss: 0.0027 - val_loss: 0.0025\n"
     ]
    }
   ],
   "source": [
    "lstm_model.compile(loss=\"mse\", optimizer=\"adam\")\n",
    "lstm_history = lstm_model.fit(X_train, y_train, epochs=20, \n",
    "                    validation_data=(X_valid, y_valid))"
   ]
  },
  {
   "cell_type": "code",
   "execution_count": 45,
   "metadata": {},
   "outputs": [
    {
     "data": {
      "image/png": "[encoded data removed]",
      "text/plain": [
       "<Figure size 864x432 with 1 Axes>"
      ]
     },
     "metadata": {},
     "output_type": "display_data"
    }
   ],
   "source": [
    "plot_loss_curves(lstm_history)"
   ]
  },
  {
   "cell_type": "code",
   "execution_count": 46,
   "metadata": {
    "scrolled": true
   },
   "outputs": [
    {
     "name": "stdout",
     "output_type": "stream",
     "text": [
      "1000/1000 [==============================] - 0s 150us/sample - loss: 0.0027\n"
     ]
    },
    {
     "data": {
      "text/plain": [
       "0.0027121321950107813"
      ]
     },
     "execution_count": 46,
     "metadata": {},
     "output_type": "execute_result"
    }
   ],
   "source": [
    "lstm_model.evaluate(X_test, y_test)"
   ]
  },
  {
   "cell_type": "code",
   "execution_count": 47,
   "metadata": {},
   "outputs": [
    {
     "data": {
      "image/png": "[encoded data removed]",
      "text/plain": [
       "<Figure size 432x288 with 1 Axes>"
      ]
     },
     "metadata": {},
     "output_type": "display_data"
    }
   ],
   "source": [
    "lstm_y_pred = lstm_model.predict(X_test)\n",
    "plot_series(X_test[0, :, 0], y_test[0, 0], lstm_y_pred[0, 0])\n",
    "plt.show()"
   ]
  },
  {
   "cell_type": "code",
   "execution_count": 48,
   "metadata": {
    "scrolled": true
   },
   "outputs": [
    {
     "name": "stdout",
     "output_type": "stream",
     "text": [
      "LSTM Error: 0.027812828144946095\n"
     ]
    }
   ],
   "source": [
    "print(\"LSTM Error: {}\".format(y_test[0,0] - lstm_y_pred[0,0]))"
   ]
  },
  {
   "cell_type": "markdown",
   "metadata": {},
   "source": [
    "## 1-C. LSTM 이용하여 다음 글자 예측하기"
   ]
  },
  {
   "cell_type": "code",
   "execution_count": 72,
   "metadata": {},
   "outputs": [],
   "source": [
    "shakespeare_url = \"https://raw.githubusercontent.com/karpathy/char-rnn/master/data/tinyshakespeare/input.txt\"\n",
    "filepath = keras.utils.get_file(\"shakespeare.txt\", shakespeare_url)\n",
    "with open(filepath) as f:\n",
    "    shakespeare_text = f.read()\n",
    "    "
   ]
  },
  {
   "cell_type": "code",
   "execution_count": 73,
   "metadata": {},
   "outputs": [],
   "source": [
    "tokenizer = keras.preprocessing.text.Tokenizer(char_level=True)\n",
    "tokenizer.fit_on_texts(shakespeare_text)"
   ]
  },
  {
   "cell_type": "code",
   "execution_count": 77,
   "metadata": {},
   "outputs": [
    {
     "data": {
      "text/plain": [
       "[[20, 6, 9, 8, 3]]"
      ]
     },
     "execution_count": 77,
     "metadata": {},
     "output_type": "execute_result"
    }
   ],
   "source": [
    "tokenizer.texts_to_sequences([\"First\"])"
   ]
  },
  {
   "cell_type": "code",
   "execution_count": 78,
   "metadata": {},
   "outputs": [
    {
     "data": {
      "text/plain": [
       "['f i r s t']"
      ]
     },
     "execution_count": 78,
     "metadata": {},
     "output_type": "execute_result"
    }
   ],
   "source": [
    "tokenizer.sequences_to_texts([[20, 6, 9, 8, 3]])"
   ]
  },
  {
   "cell_type": "code",
   "execution_count": 79,
   "metadata": {},
   "outputs": [],
   "source": [
    "max_id = len(tokenizer.word_index) \n",
    "dataset_size = tokenizer.document_count "
   ]
  },
  {
   "cell_type": "code",
   "execution_count": 83,
   "metadata": {},
   "outputs": [
    {
     "data": {
      "text/plain": [
       "(39, 1115394)"
      ]
     },
     "execution_count": 83,
     "metadata": {},
     "output_type": "execute_result"
    }
   ],
   "source": [
    "max_id,dataset_size"
   ]
  },
  {
   "cell_type": "code",
   "execution_count": 82,
   "metadata": {},
   "outputs": [],
   "source": [
    "[encoded] = np.array(tokenizer.texts_to_sequences([shakespeare_text])) - 1\n",
    "train_size = dataset_size * 1 // 100"
   ]
  },
  {
   "cell_type": "code",
   "execution_count": 96,
   "metadata": {},
   "outputs": [],
   "source": [
    "dataset = tf.data.Dataset.from_tensor_slices(encoded[:train_size])"
   ]
  },
  {
   "cell_type": "code",
   "execution_count": 97,
   "metadata": {},
   "outputs": [
    {
     "name": "stdout",
     "output_type": "stream",
     "text": [
      "<DatasetV1Adapter shapes: (), types: tf.int64>\n"
     ]
    }
   ],
   "source": [
    "print(dataset)"
   ]
  },
  {
   "cell_type": "code",
   "execution_count": 85,
   "metadata": {},
   "outputs": [],
   "source": [
    "n_steps = 100\n",
    "window_length = n_steps + 1 \n",
    "dataset = dataset.repeat().window(window_length, shift=1, \n",
    "                                  drop_remainder=True)"
   ]
  },
  {
   "cell_type": "code",
   "execution_count": 86,
   "metadata": {
    "scrolled": true
   },
   "outputs": [],
   "source": [
    "dataset = dataset.flat_map(lambda window: window.batch(window_length))"
   ]
  },
  {
   "cell_type": "code",
   "execution_count": 87,
   "metadata": {},
   "outputs": [],
   "source": [
    "np.random.seed(42)"
   ]
  },
  {
   "cell_type": "code",
   "execution_count": 94,
   "metadata": {},
   "outputs": [
    {
     "name": "stdout",
     "output_type": "stream",
     "text": [
      "<DatasetV1Adapter shapes: ((?, ?, ?, 39), (?, ?, ?)), types: (tf.float32, tf.int64)>\n"
     ]
    }
   ],
   "source": [
    "batch_size = 32\n",
    "dataset = dataset.shuffle(10000).batch(batch_size)"
   ]
  },
  {
   "cell_type": "code",
   "execution_count": null,
   "metadata": {},
   "outputs": [],
   "source": [
    "dataset = dataset.map(lambda windows: (windows[:, :-1], windows[:, 1:]))"
   ]
  },
  {
   "cell_type": "code",
   "execution_count": 89,
   "metadata": {},
   "outputs": [],
   "source": [
    "dataset = dataset.map(lambda X_batch, Y_batch: \n",
    "                      (tf.one_hot(X_batch, depth=max_id), Y_batch))"
   ]
  },
  {
   "cell_type": "code",
   "execution_count": 90,
   "metadata": {
    "scrolled": true
   },
   "outputs": [
    {
     "name": "stdout",
     "output_type": "stream",
     "text": [
      "Epoch 1/10\n",
      "348/348 [==============================] - 49s 142ms/step - loss: 3.1400\n",
      "Epoch 2/10\n",
      "348/348 [==============================] - 47s 136ms/step - loss: 2.9750\n",
      "Epoch 3/10\n",
      "348/348 [==============================] - 48s 137ms/step - loss: 2.8325\n",
      "Epoch 4/10\n",
      "348/348 [==============================] - 47s 136ms/step - loss: 2.7269\n",
      "Epoch 5/10\n",
      "348/348 [==============================] - 46s 133ms/step - loss: 2.6523\n",
      "Epoch 6/10\n",
      "348/348 [==============================] - 46s 132ms/step - loss: 2.5851\n",
      "Epoch 7/10\n",
      "348/348 [==============================] - 47s 135ms/step - loss: 2.5361\n",
      "Epoch 8/10\n",
      "348/348 [==============================] - 47s 135ms/step - loss: 2.4960\n",
      "Epoch 9/10\n",
      "348/348 [==============================] - 47s 136ms/step - loss: 2.4680\n",
      "Epoch 10/10\n",
      "348/348 [==============================] - 46s 132ms/step - loss: 2.4427\n"
     ]
    }
   ],
   "source": [
    "lstm_model = keras.models.Sequential([\n",
    "    keras.layers.LSTM(20, dropout=0.5, return_sequences=True, \n",
    "                      input_shape=[None, max_id]),\n",
    "    keras.layers.LSTM(20, dropout=0.5, return_sequences=True),\n",
    "    keras.layers.Dense(max_id, activation=\"softmax\")\n",
    "])\n",
    "\n",
    "lstm_model.compile(loss=\"sparse_categorical_crossentropy\", \n",
    "              optimizer=\"adam\")\n",
    "lstm_history = lstm_model.fit(dataset, \n",
    "                    steps_per_epoch=train_size // batch_size, \n",
    "                    epochs=10)"
   ]
  },
  {
   "cell_type": "code",
   "execution_count": 91,
   "metadata": {},
   "outputs": [],
   "source": [
    "def preprocess(texts):\n",
    "    X = np.array(tokenizer.texts_to_sequences(texts)) - 1\n",
    "    return tf.one_hot(X, max_id)"
   ]
  },
  {
   "cell_type": "code",
   "execution_count": 102,
   "metadata": {},
   "outputs": [],
   "source": [
    "X_new = preprocess([\"How are yo\"])\n",
    "sess = tf.Session()\n",
    "with sess.as_default():\n",
    "    X_new = X_new.eval()"
   ]
  },
  {
   "cell_type": "code",
   "execution_count": 105,
   "metadata": {},
   "outputs": [
    {
     "data": {
      "text/plain": [
       "'u'"
      ]
     },
     "execution_count": 105,
     "metadata": {},
     "output_type": "execute_result"
    }
   ],
   "source": [
    "lstm_Y_pred = lstm_model.predict_classes(X_new)\n",
    "tokenizer.sequences_to_texts(lstm_Y_pred + 1)[0][-1]"
   ]
  }
 ],
 "metadata": {
  "kernelspec": {
   "display_name": "Python 3",
   "language": "python",
   "name": "python3"
  },
  "language_info": {
   "codemirror_mode": {
    "name": "ipython",
    "version": 3
   },
   "file_extension": ".py",
   "mimetype": "text/x-python",
   "name": "python",
   "nbconvert_exporter": "python",
   "pygments_lexer": "ipython3",
   "version": "3.6.4"
  }
 },
 "nbformat": 4,
 "nbformat_minor": 2
}
